{
 "cells": [
  {
   "cell_type": "code",
   "execution_count": 1,
   "metadata": {
    "collapsed": false
   },
   "outputs": [
    {
     "name": "stdout",
     "output_type": "stream",
     "text": [
      "{'bounds': 1,\n",
      " 'member': 54146,\n",
      " 'nd': 7527776,\n",
      " 'node': 6348477,\n",
      " 'osm': 1,\n",
      " 'relation': 6045,\n",
      " 'tag': 2005366,\n",
      " 'way': 779061}\n"
     ]
    }
   ],
   "source": [
    "import xml.etree.cElementTree as ET\n",
    "import pprint\n",
    "\n",
    "##Parse the OSM file and count the numbers of unique tag\n",
    "def count_tags(filename):\n",
    "    data={}\n",
    "    for event,element in ET.iterparse(filename):\n",
    "        if element.tag not in data:\n",
    "            data[element.tag]=1\n",
    "        else:\n",
    "            data[element.tag]=data[element.tag]+1\n",
    "    return data\n",
    "\n",
    "OSMFILE=\"san-francisco_california.osm\"  \n",
    "\n",
    "pprint.pprint(count_tags(OSMFILE))\n",
    "\n"
   ]
  }
 ],
 "metadata": {
  "kernelspec": {
   "display_name": "Python [conda root]",
   "language": "python",
   "name": "conda-root-py"
  },
  "language_info": {
   "codemirror_mode": {
    "name": "ipython",
    "version": 2
   },
   "file_extension": ".py",
   "mimetype": "text/x-python",
   "name": "python",
   "nbconvert_exporter": "python",
   "pygments_lexer": "ipython2",
   "version": "2.7.12"
  }
 },
 "nbformat": 4,
 "nbformat_minor": 1
}
