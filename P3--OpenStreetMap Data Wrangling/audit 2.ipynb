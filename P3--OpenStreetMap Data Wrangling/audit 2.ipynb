{
 "cells": [
  {
   "cell_type": "code",
   "execution_count": 2,
   "metadata": {
    "collapsed": false
   },
   "outputs": [
    {
     "name": "stdout",
     "output_type": "stream",
     "text": [
      "{'lower': 1293565, 'lower_colon': 685834, 'other': 25837, 'problemchars': 130}\n"
     ]
    }
   ],
   "source": [
    "###Count multiple patterns in the tags\n",
    "\n",
    "import xml.etree.cElementTree as ET\n",
    "\n",
    "import pprint\n",
    "\n",
    "import re\n",
    "\n",
    "\n",
    "\n",
    "from collections import defaultdict\n",
    "\n",
    "\n",
    "\n",
    "lower = re.compile(r'^([a-z]|_)*$')\n",
    "\n",
    "lower_colon = re.compile(r'^([a-z]|_)*:([a-z]|_)*$')\n",
    "\n",
    "problemchars = re.compile(r'[=\\+/&<>;\\'\"\\?%#$@\\,\\. \\t\\r\\n]')\n",
    "\n",
    "\n",
    "\n",
    "OSMFILE = \"san-francisco_california.osm\"\n",
    "\n",
    "\n",
    "\n",
    "def key_type(element, keys):\n",
    "\n",
    "    if element.tag == \"tag\":\n",
    "\n",
    "        for tag in element.iter('tag'):\n",
    "\n",
    "            k = tag.get('k')\n",
    "\n",
    "            if lower.search(element.attrib['k']):\n",
    "\n",
    "                keys['lower'] = keys['lower'] + 1\n",
    "\n",
    "            elif lower_colon.search(element.attrib['k']):\n",
    "\n",
    "                keys['lower_colon'] = keys['lower_colon'] + 1\n",
    "\n",
    "            elif problemchars.search(element.attrib['k']):\n",
    "\n",
    "                keys['problemchars'] = keys['problemchars'] + 1\n",
    "\n",
    "            else:\n",
    "\n",
    "                keys['other'] = keys['other'] + 1\n",
    "\n",
    "    \n",
    "\n",
    "    return keys\n",
    "\n",
    "\n",
    "\n",
    "def process_map(filename):\n",
    "\n",
    "    keys = {\"lower\": 0, \"lower_colon\": 0, \"problemchars\": 0, \"other\": 0}\n",
    "\n",
    "    for _, element in ET.iterparse(filename):\n",
    "\n",
    "        keys = key_type(element, keys)\n",
    "\n",
    "\n",
    "\n",
    "    return keys\n",
    "\n",
    "\n",
    "\n",
    "pprint.pprint(process_map(OSMFILE))"
   ]
  }
 ],
 "metadata": {
  "anaconda-cloud": {},
  "kernelspec": {
   "display_name": "Python [conda root]",
   "language": "python",
   "name": "conda-root-py"
  },
  "language_info": {
   "codemirror_mode": {
    "name": "ipython",
    "version": 2
   },
   "file_extension": ".py",
   "mimetype": "text/x-python",
   "name": "python",
   "nbconvert_exporter": "python",
   "pygments_lexer": "ipython2",
   "version": "2.7.12"
  }
 },
 "nbformat": 4,
 "nbformat_minor": 1
}
